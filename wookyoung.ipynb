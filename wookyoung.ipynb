{
 "cells": [
  {
   "cell_type": "code",
   "execution_count": 1,
   "metadata": {
    "collapsed": true
   },
   "outputs": [],
   "source": [
    "# 작성자 : 노우경\n",
    "# 작성일 : 2015년 12월 5일"
   ]
  },
  {
   "cell_type": "markdown",
   "metadata": {},
   "source": [
    "# 통계\n",
    "\n",
    "\n",
    "### 통계에서 사용되는 bootstrap의 의미는 무엇인가요.\n",
    "샘플을 바꿔주어 가설 검증을 반복적으로 해 보는 것입니다.\n",
    "중심극한정리를 따르는지 분포가 정규성을 따르는지 신뢰구간을 통해 확인합니다.\n",
    "넘버웍스 문제 집합이 있는데 20개를 골라야 합니다. 부트스트래핑하는 의미로 이것을 첫 문제로 골랐습니다.\n",
    "- (외부참고 : Bootstrapping) http://egloos.zum.com/holps/v/1097839\n",
    "\n",
    "### “likelihood”와 “probability”의 차이는 무엇일까요?\n",
    "* likelihood는 로널드 피셔가 probability와 구분하려고 제안한 것입니다.\n",
    "* probability는 고정된 parameter 값으로 결과를 설명하고 likelihood는 관측 결과를 보고서 parameter를 설명합니다.\n",
    "* likelihood는 확률 분포가 연속적인지 아닌지에 따라 다르게 정의됩니다.\n",
    "- (외부참고 : Likelihood function) https://en.wikipedia.org/wiki/Likelihood_function\n",
    "- (외부참고 : Dark World Part II) http://blog.shurain.net/2013/02/darkworld2.html"
   ]
  },
  {
   "cell_type": "markdown",
   "metadata": {},
   "source": [
    "# 머신러닝"
   ]
  },
  {
   "cell_type": "markdown",
   "metadata": {},
   "source": [
    "### PCA는 차원 축소 기법이면서, 데이터 압축 기법이기도 하고, 노이즈 제거기법이기도 합니다. 왜 그런지 설명해주실 수 있나요?\n",
    "* PCA는 데이터의 분포를 벡터를 통한 성분으로 분석합니다. 2차원이면 분산이 가장 큰 2개의 서로 수직인 성분 벡터가 나오는 식으로 차원이 축소가 됩니다.\n",
    "또 주성분 벡터들과 계수들만 저장하면 되니까 데이터를 집합적으로 압축하는 효과가 납니다.\n",
    "데이터를 복원하는 과정에서는 주성분만 사용됨으로 인해 자연스럽게 노이즈가 제거됩니다.\n",
    "- (외부참고 : 선형대수학 6 주성분분석(PCA)의 이해와 활용) http://darkpgmr.tistory.com/110\n",
    "\n",
    "### SVM은 왜 반대로 차원을 확장시키는 방식으로 동작할까요? 거기서 어떤 장점이 발생했나요?\n",
    "\n",
    "* SVM은 선형 분류가 힘든 경우, 차원을 확장하여 비선형 분류를 합니다.\n",
    "대상을 높은 차원으로 투영하는 커널 트릭은 경계가 되는 평면(thresholding hyperplane)을 수월하게 찾게 해 줍니다.\n",
    "이를 테면 거리에서 누군가를 찾는다 할 때, 길에서만 찾는 것과 위에서 내려다 보며 입체적으로 찾는 것의 차이죠.\n",
    "- (외부참고 : 커널 함수와 지지 벡터 머신 SVM) http://juggernaut.tistory.com/entry/%EC%BB%A4%EB%84%90-%ED%95%A8%EC%88%98%EC%99%80-%EC%A7%80%EC%A7%80-%EB%B2%A1%ED%84%B0-%EB%A8%B8%EC%8B%A0SVM"
   ]
  },
  {
   "cell_type": "markdown",
   "metadata": {},
   "source": [
    "### eigenvalue, eigenvector에 대해 설명해주세요. 이건 왜 중요한가요?\n",
    "\n",
    "https://en.wikipedia.org/wiki/Symmetric_matrix 에 있는 행렬을 예를 들어 보면요,"
   ]
  },
  {
   "cell_type": "code",
   "execution_count": 2,
   "metadata": {
    "collapsed": false
   },
   "outputs": [
    {
     "data": {
      "text/plain": [
       "3x3 Array{Int64,2}:\n",
       " 1   7   3\n",
       " 7   4  -5\n",
       " 3  -5   6"
      ]
     },
     "execution_count": 2,
     "metadata": {},
     "output_type": "execute_result"
    }
   ],
   "source": [
    "A = [1 7 3; 7 4 -5; 3 -5 6]   # symmetric matrix 대칭행렬"
   ]
  },
  {
   "cell_type": "code",
   "execution_count": 3,
   "metadata": {
    "collapsed": false
   },
   "outputs": [
    {
     "data": {
      "text/plain": [
       "true"
      ]
     },
     "execution_count": 3,
     "metadata": {},
     "output_type": "execute_result"
    }
   ],
   "source": [
    "A == A'   # transpose 같음"
   ]
  },
  {
   "cell_type": "code",
   "execution_count": 4,
   "metadata": {
    "collapsed": false
   },
   "outputs": [
    {
     "data": {
      "text/plain": [
       "([-7.007928523547845,7.035945847957635,10.971982675590226],\n",
       "3x3 Array{Float64,2}:\n",
       "  0.684154  0.628784   0.369546\n",
       " -0.61391   0.222927   0.757243\n",
       " -0.393761  0.744939  -0.538534)"
      ]
     },
     "execution_count": 4,
     "metadata": {},
     "output_type": "execute_result"
    }
   ],
   "source": [
    "D,V = eig(A)  # 고유값,고유벡터"
   ]
  },
  {
   "cell_type": "code",
   "execution_count": 5,
   "metadata": {
    "collapsed": false
   },
   "outputs": [
    {
     "data": {
      "text/plain": [
       "3x3 Diagonal{Float64}:\n",
       " -7.00793  0.0       0.0  \n",
       "  0.0      7.03595   0.0  \n",
       "  0.0      0.0      10.972"
      ]
     },
     "execution_count": 5,
     "metadata": {},
     "output_type": "execute_result"
    }
   ],
   "source": [
    "Diagonal(D)   # 고유값 대각행렬"
   ]
  },
  {
   "cell_type": "code",
   "execution_count": 6,
   "metadata": {
    "collapsed": false
   },
   "outputs": [
    {
     "data": {
      "text/plain": [
       "3x3 Array{Float64,2}:\n",
       " 0.684154  -0.61391   -0.393761\n",
       " 0.628784   0.222927   0.744939\n",
       " 0.369546   0.757243  -0.538534"
      ]
     },
     "execution_count": 6,
     "metadata": {},
     "output_type": "execute_result"
    }
   ],
   "source": [
    "# 고유벡터의 transpose는 inv(V) 역행렬과 같아 orthogonal 함\n",
    "V'"
   ]
  },
  {
   "cell_type": "code",
   "execution_count": 7,
   "metadata": {
    "collapsed": false
   },
   "outputs": [
    {
     "data": {
      "text/plain": [
       "3x3 Array{Float64,2}:\n",
       " 0.684154  -0.61391   -0.393761\n",
       " 0.628784   0.222927   0.744939\n",
       " 0.369546   0.757243  -0.538534"
      ]
     },
     "execution_count": 7,
     "metadata": {},
     "output_type": "execute_result"
    }
   ],
   "source": [
    "inv(V)"
   ]
  },
  {
   "cell_type": "code",
   "execution_count": 8,
   "metadata": {
    "collapsed": false
   },
   "outputs": [
    {
     "data": {
      "text/plain": [
       "3x3 Array{Float64,2}:\n",
       " 1.0   7.0   3.0\n",
       " 7.0   4.0  -5.0\n",
       " 3.0  -5.0   6.0"
      ]
     },
     "execution_count": 8,
     "metadata": {},
     "output_type": "execute_result"
    }
   ],
   "source": [
    "V * Diagonal(D) * inv(V)   # 고유벡터 * 고유값대각행렬 * 고유벡터역행렬"
   ]
  },
  {
   "cell_type": "code",
   "execution_count": 9,
   "metadata": {
    "collapsed": false
   },
   "outputs": [
    {
     "data": {
      "text/plain": [
       "3x3 Array{Float64,2}:\n",
       " 1.0   7.0   3.0\n",
       " 7.0   4.0  -5.0\n",
       " 3.0  -5.0   6.0"
      ]
     },
     "execution_count": 9,
     "metadata": {},
     "output_type": "execute_result"
    }
   ],
   "source": [
    "V * Diagonal(D) * V'   # 고유벡터 * 고유값대각행렬 * 고유벡터transpose"
   ]
  },
  {
   "cell_type": "code",
   "execution_count": 10,
   "metadata": {
    "collapsed": false
   },
   "outputs": [
    {
     "data": {
      "text/plain": [
       "3x3 Array{Int64,2}:\n",
       " 1   7   3\n",
       " 7   4  -5\n",
       " 3  -5   6"
      ]
     },
     "execution_count": 10,
     "metadata": {},
     "output_type": "execute_result"
    }
   ],
   "source": [
    "A   # 원래의 대칭행렬과 같음"
   ]
  },
  {
   "cell_type": "markdown",
   "metadata": {},
   "source": [
    "- n by n square matrix는 고유값 분해(eigen decomposition)를 할 수 있는데,\n",
    "  특히 대칭행렬은 직교행렬(orthogonal matrix)로 대각화가 가능하므로\n",
    "  PCA 주성분 분석, SVD 특이값분해 등등에서 사용됩니다.\n",
    "\n",
    "- (외부참조 : 선형대수학 3 고유값과 고유벡터 eigenvalue & eigenvector) http://darkpgmr.tistory.com/105"
   ]
  },
  {
   "cell_type": "markdown",
   "metadata": {},
   "source": [
    "### 최적화 기법중 Newton’s Method와 Gradient Descent 방법에 대해 알고 있나요?\n",
    "어떤 함수의 Gradient는 미분 값들의 벡터로, 이러한 벡터를 통해 함수의 증가/감소 방향과 기울기를 알 수 있습니다.\n",
    "Gradient Descent는 이러한 Gradient 특성을 이용해 함수값이 최소가 되는 x를 점진적으로 구하는 방법이구요.\n",
    "local minima에 빠지는 문제와 해에 근접할 수록 수렴하는 속도가 느려지는 문제가 있습니다.\n",
    "\n",
    "Newton’s Method는 함수를 미분하면 접선의 기울기가 나오는 것을 이용하는 방법입니다.\n",
    "함수에서 x 값에 해당하는 접선을 구하고 접선이 x축과 만나는 지점으로 이동을 반복하여 점진적으로 해를 구합니다.\n",
    "초기값을 잘못 주면 시간이 오래 걸리거나 해를 찾지 못하는 문제가 있습니다.\n",
    "\n",
    "- (외부참조 : Gradient Descent 탐색 방법) http://darkpgmr.tistory.com/133\n",
    "- (외부참조 : 뉴턴법/뉴턴-랩슨법의 이해와 활용) http://darkpgmr.tistory.com/58\n",
    "\n",
    "### 지금 나오고 있는 deep learning 계열의 혁신의 근간은 무엇이라고 생각하시나요?\n",
    "인터넷과 컴퓨터 하드웨어의 발전으로 학습에 사용할 데이터를 쉽게 수집하고 저장할 수 있게 되었고,\n",
    "또 이 데이터들은 최신의 GPU를 통해 엄청난 매트릭스, 벡터 연산을 처리할 수 있게 되었습니다.\n",
    "데이터를 학습시키는 과정에서 라벨링을 모두 할 수는 없기에 초기의 지도학습(supervised learning) 이후는\n",
    "비지도학습(unsupervised learning)으로 메타태그를 붙여나가 사람이 관여하지 않고 데이터만으로 인식을 해 내고 있는 점이 혁신적이라 생각합니다.\n",
    "- (외부참조 : 딥 러닝) https://ko.wikipedia.org/wiki/%EB%94%A5_%EB%9F%AC%EB%8B%9D\n",
    "\n",
    "### K-means의 대표적 의미론적 단점은 무엇인가요? (계산량 많다는것 말고)\n",
    "* k-means의 단점은 군집의 갯수를 k개라 미리 정해줘야 하는 것입니다.\n",
    "* 또 노이즈를 포함하는 모든 데이터를 군집화하므로 평균값, 분산의 계산 결과에 노이즈가 영향을 줍니다.\n",
    "- (참고자료 : 머신러닝에서 딥러닝까지 p151) http://digital.kyobobook.co.kr/digital/ebook/ebookDetail.ink?barcode=480150001023P"
   ]
  },
  {
   "cell_type": "markdown",
   "metadata": {},
   "source": [
    "# 시각화\n",
    "### 어떤 1차원값이, 데이터가 몰려있어서 직선상에 표현했을 때 보기가 쉽지 않습니다. 어떻게 해야할까요?\n",
    "* jittering해서 overplotting 하지 않고 조금씩 흩어지게 해 줍니다."
   ]
  },
  {
   "cell_type": "markdown",
   "metadata": {},
   "source": [
    "# 시스템 엔지니어링\n",
    "\n",
    "### 동시에 10개의 컴퓨터에 라이브러리를 설치하는 일이 빈번히 발생합니다. 어떤 해결책이 있을까요?\n",
    "* 도커 이미지를 만들어 공유하는 방법이 있겠네요.\n",
    "- (외부참조 : 도커 레지스트리(Docker Registry) 설치하기 + S3 연동) http://blog.nacyot.com/articles/2014-05-08-docker-registry-introduction/\n",
    "\n",
    "### vim입니까. emacs입니까. 소속을 밝히세요.\n",
    "* 소속은 vim 입니다.\n",
    "- 제가 쓰고 있는 .vimrc 입니다 https://github.com/wookay/knol/blob/master/vimrc.txt\n",
    " \n",
    "### 가장 좋아하는 리눅스 배포판은 뭡니까. 왜죠?\n",
    "* 맥에 CoreOS 깔아서 쓰고 있습니다. 도커 쓰는 용도로요.\n",
    "- 사용하는 모습 https://github.com/wookay/dockercat/wiki/CoreOS"
   ]
  },
  {
   "cell_type": "markdown",
   "metadata": {},
   "source": [
    "# 서비스 구현 (python, javascript, ...)\n",
    "\n",
    "### 크롤러를 파이썬으로 구현할 때 BeautifulSoup과 Selenium의 장단점은 무엇일까요?\n",
    "* Selenium은 웹브라우저 자동화를 위한 툴이니 브라우저 상에 보이는 DOM 객체에 접근합니다.\n",
    "   브라우저의 세션이 필요한 넘은 이걸로 크롤링하는게 좋습니다만 속도는 느리겠죠.\n",
    "* BeautifulSoup은 브라우저와 상관없이 서버에 요청하여 응답 html 데이터로 직접 추출합니다.\n",
    "   URL이 특정 패턴의 규칙을 갖는 넘들을 크롤링하기 적당합니다.\n",
    "   \n",
    "### 빈번한 접속으로 우리 IP가 차단되었을 때의 해결책은? (대화로 푼다. 이런거 말구요)\n",
    "* VPN 써야겠죠.\n",
    "- (외부참조 : AWS EC2를 VPN으로 사용하기) http://haruair.com/blog/2518\n",
    " \n",
    "### 당장 10분안에 사이트의 A/B 테스트를 하고 싶다면 어떻게 해야 할까요? 타 서비스를 써도 됩니다.\n",
    "* GA, optimizely 자바스크립트 삽입이요.\n",
    "- (외부참조 : A/B Testing에 대한 기초적인 정보들) http://spoqa.github.io/2012/05/15/ab-testing-basic.html\n",
    " \n",
    "### 신규 방문자와 재 방문자를 구별하여 A/B 테스트를 하고 싶다면 어떻게 해야 할까요?\n",
    "* __utma 쿠키 여부로 방문자를 구분합니다.\n",
    "- (외부참조 : Etsy가 신규 방문자에 대해 A/B테스트 실험을 하는 방법) http://likelink.co.kr/28785\n",
    " \n",
    "### R의 결과물을 python으로 만든 대시보드에 넣고 싶다면 어떤 방법들이 가능할까요?\n",
    "* HDF5, ProtoBuf, json으로 저장해서 대시보드에서 보여주면 되겠네요.\n",
    "- R함수 호출한 결과를 파이썬 함수에 넘겨주는 방법은 Julia에서 RCall, PyCall 쓰면 됩니다. https://github.com/wookay/juliacat/wiki/RCallPyCall\n",
    "  \n",
    "### 쇼핑몰의 상품별 노출 횟수와 클릭수를 손쉽게 수집하려면 어떻게 해야 할까요?\n",
    "* 로그를 보거나 GA의 Impressions, Clicks, CTR을 봅니다.\n",
    "- (외부참조 : SEO reports) https://support.google.com/analytics/answer/1308626\n",
    "  \n",
    "### 여러 웹사이트를 돌아다니는 사용자를 하나로 엮어서 보고자 합니다. 우리가 각 사이트의 웹에 우리 코드를 삽입할 수 있다고 가정할 때, 이것이 가능한가요? 가능하다면, 그 방법에는 어떤 것이 있을까요?\n",
    "* GA에 Custom dimensions and custom metric 설정한다고 하네요.\n",
    "- (외부참조 : Link Multiple Visits with Google Analytics' ClientID) https://www.clickinsight.ca/about/blog/using-clientid-to-connect-multiple-visits\n",
    " \n",
    "### 고객사 혹은 외부 서버와의 데이터 전달이 필요한 경우가 있습니다. 데이터 전달 과정에서 보안을 위해 당연히(plain text)로 전송하는 것은 안됩니다. 어떤 방법이 있을까요?\n",
    "* curl을 쓰면 될 것 같습니다.\n",
    "- (외부참조 : curl 설치 및 사용법 - HTTP GET/POST, REST API 연계등) https://www.lesstif.com/pages/viewpage.action?pageId=14745703"
   ]
  },
  {
   "cell_type": "code",
   "execution_count": 12,
   "metadata": {
    "collapsed": true
   },
   "outputs": [],
   "source": [
    "# 읽어주셔서 감사합니다"
   ]
  }
 ],
 "metadata": {
  "kernelspec": {
   "display_name": "Julia 0.4.1",
   "language": "julia",
   "name": "julia-0.4"
  },
  "language_info": {
   "file_extension": ".jl",
   "mimetype": "application/julia",
   "name": "julia",
   "version": "0.4.1"
  }
 },
 "nbformat": 4,
 "nbformat_minor": 0
}
